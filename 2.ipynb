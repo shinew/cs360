{
 "cells": [
  {
   "cell_type": "markdown",
   "metadata": {},
   "source": [
    "### Languages\n",
    "$A, B, C$ typical names for languages\n",
    "\n",
    "$\\Sigma^*$ language of *all* strings over alphabet $\\Sigma$\n",
    "\n",
    "$\\emptyset$ empty language\n",
    "\n",
    "$A = \\{\\omega \\in \\Sigma^*: |\\omega| \\text{ is even} \\}$\n",
    "\n",
    "Q: For an alphabet $\\Sigma$ (let us take $\\Sigma = \\{0, 1\\}$). Is the language $\\Sigma^*$ countable or uncountable?\n",
    "\n",
    "A: Countable.\n",
    "\n",
    "---"
   ]
  },
  {
   "cell_type": "markdown",
   "metadata": {},
   "source": [
    "### Lexicographic ordering\n",
    "\n",
    "The *lexicographic ordering* of $\\Sigma^*$ is the ordering of strings as follows:\n",
    "- order by increasing length\n",
    "- dictionary ordering among strings of the same length\n",
    "\n",
    "For $\\Sigma=\\{0, 1\\}$, we have: $\\epsilon, 0, 1, 00, 01, 10, 11, 000, ...$\n",
    "\n",
    "Now define a 1-to-1 and onto function $f: \\mathbb{N} \\to \\Sigma^*$ in the natural way:\n",
    "\n",
    "$0 \\to \\epsilon, 1 \\to 0, 2 \\to 1, 3 \\to 00, ...$\n",
    "\n",
    "---"
   ]
  },
  {
   "cell_type": "markdown",
   "metadata": {},
   "source": [
    "Proposition: for any alphabet $\\Sigma$, the language $\\Sigma^*$ is countable.\n",
    "\n",
    "Q: now consider the set of all languages over $\\Sigma=\\{0, 1\\}$. Is $P(\\Sigma^*)$ countable or uncountable?\n",
    "\n",
    "A: uncountable.\n",
    "\n",
    "Proof: we know that there exists a bijective function $f: \\mathbb{N} \\to \\Sigma^*$.\n",
    "\n",
    "We want a bijective function $g: P(\\mathbb{N}) \\to P(\\Sigma^*)$.\n",
    "\n",
    "$S \\subseteq \\mathbb{N}$. Let $g(S) = \\{f(n): n \\in S\\}$.\n",
    "\n",
    "But that contradicts Cantor's theorem as if there is a bijective function $h: \\mathbb{N} \\to P(\\Sigma^*)$, then $g^{-1} \\circ h$ is also bijective.\n",
    "\n",
    "---"
   ]
  },
  {
   "cell_type": "markdown",
   "metadata": {},
   "source": [
    "### Deterministic Finite Automata (DFA)\n",
    "\n",
    "Things to keep in mind as we discuss the definition.\n",
    "1. Definition is based on sets (and functions, etc).\n",
    "2. It is a simple and not very powerful mode - but we're starting simple\n",
    "\n",
    "Def: a DFA is a 5-tuple: $m=(Q, \\Sigma, \\delta, q_0, F)$ where:\n",
    "1. $Q$ = finite and nonempty set (whose elements we call *states*)\n",
    "2. $\\Sigma$ = alphabet\n",
    "3. $\\delta$ is a transition function of form $\\delta: Q \\times \\Sigma \\to Q$\n",
    "4. $q_0 \\in Q$ (*start* state)\n",
    "5. $F \\subseteq Q$ (set of *accept* states)\n",
    "\n",
    "*State diagrams*: the circle-y pictures\n",
    "\n",
    "---"
   ]
  },
  {
   "cell_type": "markdown",
   "metadata": {},
   "source": [
    "Def: suppose $m = (Q, \\Sigma, \\delta, q_0, F)$ is a DFA and $\\omega \\in \\Sigma^*$ is a string. The DFA $m$ *accepts* $\\omega$ if:\n",
    "1. $\\omega = \\epsilon$ and $q_0 \\in F$, or\n",
    "2. $\\omega = \\sigma_1...\\sigma_n$ where $\\sigma_i \\in \\Sigma$, and there exists states $r_0, ... r_n \\in Q$ such that $r_0 = q_0$, $r_n \\in F$, and $r_{k+1}=\\delta(r_k, \\sigma_{k+1})$ for $k=0, ... n-1$\n",
    "\n",
    "Remark: $m$ rejects $\\omega$ if $m$ does not accept $\\omega$.\n",
    "\n",
    "---\n",
    "\n",
    "Another way to define acceptance/rejection is to define a function $$\\delta^*: Q \\times \\Sigma^* \\to Q$$\n",
    "\n",
    "$\\delta^*(q,\\omega)$ is the state we land on if we start at $q$ and read string $\\omega$. It is defined as:\n",
    "\n",
    "$\\delta^*(q,\\omega) = q$\n",
    "\n",
    "$\\delta^*(q,\\omega \\sigma) = \\delta(\\delta^*(q, \\omega), \\sigma)$\n",
    "\n",
    "$\\forall q \\in Q, \\omega \\in \\Sigma^*, \\sigma \\in \\Sigma$\n",
    "\n",
    "---"
   ]
  },
  {
   "cell_type": "markdown",
   "metadata": {},
   "source": [
    "The language *recognized* by a DFA $m$ is $L(m) = \\{\\omega \\in \\Sigma^*: m \\text{ accepts } \\omega\\}$.\n",
    "\n",
    "$A = \\{\\omega \\in \\Sigma^*: |\\omega| \\text{ is prime}\\}$\n",
    "\n",
    "Def: Let $\\Sigma$ be an alphabet and let $A \\subseteq \\Sigma^*$. The language $A$ is *regular* if there exists a DFA $m$ such that $A=L(m)$.\n",
    "\n",
    "Q: Let $\\Sigma=\\{0,1\\}$. How many regular langauges over the alphabet $\\Sigma$ are there?\n",
    "\n",
    "A: Countably many\n",
    "\n",
    "Proof: For any $n \\geq 1$, there are at most finitely many DFAs with $n$ states (up to renaming the states) $\\leq n^{2n}n2^n$.\n",
    "\n",
    "Now create a sequence of lists:\n",
    "\n",
    "$1 \\to$ all DFAs with 1 state,\n",
    "\n",
    "$2 \\to$ all DFAs with 2 states...\n",
    "\n",
    "The set of regular languages (over any alphabet) is countable $\\implies$ there are some languages that are not regular."
   ]
  }
 ],
 "metadata": {
  "kernelspec": {
   "display_name": "Python 2",
   "language": "python",
   "name": "python2"
  },
  "language_info": {
   "codemirror_mode": {
    "name": "ipython",
    "version": 2
   },
   "file_extension": ".py",
   "mimetype": "text/x-python",
   "name": "python",
   "nbconvert_exporter": "python",
   "pygments_lexer": "ipython2",
   "version": "2.7.11"
  }
 },
 "nbformat": 4,
 "nbformat_minor": 0
}
