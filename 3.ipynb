{
 "cells": [
  {
   "cell_type": "markdown",
   "metadata": {},
   "source": [
    "# Non-deterministic Finite Automata (NFA)\n",
    "\n",
    "Def: an NFA is a 5-tuple $N = (Q, \\Sigma, \\delta, q_0, F)$ where:\n",
    "\n",
    "- $Q$ is a finite, nonempty set of states\n",
    "- $\\Sigma$ is an alphabet\n",
    "- $q_0 \\in Q$ is the start state\n",
    "- $F \\in Q$ is the set of accepted states\n",
    "- $\\delta$ is the transition functino which has the form: $\\delta: Q \\times (\\Sigma \\cup \\{\\epsilon\\}) \\to P(Q)$"
   ]
  },
  {
   "cell_type": "markdown",
   "metadata": {},
   "source": [
    "Def: an NFA $N = (Q, \\Sigma, \\delta, q_0, F)$ *accepts* a string $\\omega \\in \\Sigma^*$ if there exists\n",
    "1. $m \\in \\mathbb{N}$\n",
    "2. $r_0, ... r_m \\in Q$\n",
    "3. $\\sigma_1, ... \\sigma_m \\in \\Sigma \\cup \\{ \\epsilon \\}$\n",
    "\n",
    "such that\n",
    "\n",
    "1. $r_0 = q_0$\n",
    "2. $r_m \\in F$\n",
    "3. $\\omega=\\sigma_1 ... \\sigma_m$\n",
    "4. $r_{k+1} \\in \\delta(r_k, \\sigma_{k+1})$\n",
    "\n",
    "for $k=0 ... m-1$\n",
    "\n",
    "---"
   ]
  },
  {
   "cell_type": "markdown",
   "metadata": {},
   "source": [
    "## $\\epsilon$-closure\n",
    "\n",
    "$R \\subseteq Q$\n",
    "\n",
    "The $\\epsilon$-closure of $R$ is $\\epsilon(R)=$ set of all states that can be reached from any state in $R$ by following zero or more $\\epsilon$-transitions\n",
    "\n",
    "$\\delta^*(q, \\epsilon) = \\epsilon(\\{q\\})$\n",
    "\n",
    "$\\delta^*(q, \\omega \\sigma) = \\epsilon(\\cup_{r \\in \\delta^*(q, \\omega)} \\delta(r, \\sigma))$\n",
    "\n",
    "for all $q, \\omega, \\sigma$\n",
    "\n",
    "$L(N)=\\{\\omega \\in \\Sigma^*: N \\text{ accepts } \\omega\\}$\n",
    "\n",
    "$=\\{\\omega \\in \\Sigma^*: \\delta^*(q_0, \\omega) \\cap F \\neq \\emptyset \\}$\n",
    "\n",
    "---"
   ]
  },
  {
   "cell_type": "markdown",
   "metadata": {},
   "source": [
    "Thm: Let $\\Sigma$ be an alphabet and let $A \\subseteq \\Sigma^*$. The language $A$ is regular iff $A = L(N)$ for some NFA $N$.\n",
    "\n",
    "---\n",
    "\n",
    "Proof pt 1: regular $\\implies$ $A=L(N)$ for an NFA $N$.\n",
    "\n",
    "$A=L(m)$ for a **DFA** $m=(Q, \\Sigma, \\delta, q_0, F)$\n",
    "\n",
    "Then let $N=(Q, \\Sigma, \\eta, q_0, F)$ where\n",
    "\n",
    "$\\eta(q, \\sigma)= \\{ \\delta(Q, \\sigma) \\}$\n",
    "\n",
    "$\\eta(q, \\epsilon)= \\emptyset$\n",
    "\n",
    "for all $q \\in Q, \\sigma \\in \\Sigma$.\n",
    "\n",
    "---\n",
    "\n",
    "Proof pt 2: $A=L(N)$ for an NFA $N$ $\\implies$ regular.\n",
    "\n",
    "$N=(Q, \\Sigma, \\eta, q_0, F)$\n",
    "\n",
    "Define $m = (P(Q), \\Sigma, \\delta, S, G)$ as:\n",
    "\n",
    "$\\delta(R, \\sigma) = \\epsilon(\\cup_{q \\in R} \\eta(a, \\sigma))$ (subset construction)\n",
    "\n",
    "$S = \\epsilon(\\{q_0\\}), G = \\{ R \\in P(Q): R \\cap F \\neq \\emptyset \\}$\n",
    "\n",
    "---"
   ]
  },
  {
   "cell_type": "markdown",
   "metadata": {},
   "source": [
    "Goal: find NFA $k$ with 2 states such that $L(K) = $ complement of $L(N)$\n",
    "\n",
    "Also: show an NFA that takes strings (3rd from the end is a 1) must have >= 8 states to represent it in a DFA."
   ]
  }
 ],
 "metadata": {
  "kernelspec": {
   "display_name": "Python 2",
   "language": "python",
   "name": "python2"
  },
  "language_info": {
   "codemirror_mode": {
    "name": "ipython",
    "version": 2
   },
   "file_extension": ".py",
   "mimetype": "text/x-python",
   "name": "python",
   "nbconvert_exporter": "python",
   "pygments_lexer": "ipython2",
   "version": "2.7.11"
  }
 },
 "nbformat": 4,
 "nbformat_minor": 0
}
