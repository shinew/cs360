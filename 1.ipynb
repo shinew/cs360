{
 "cells": [
  {
   "cell_type": "markdown",
   "metadata": {},
   "source": [
    "### Size of sets\n",
    "\n",
    "The size of a *finite* set is the number of elements it contains. Sets can also be infinite.\n",
    "\n",
    "Examples:\n",
    "\n",
    "- Natural numbers $\\{0, 1, 2, ...\\}$\n",
    "- Integers\n",
    "- Rational, real, complex numbers\n",
    "\n",
    "---"
   ]
  },
  {
   "cell_type": "markdown",
   "metadata": {},
   "source": [
    "Def: A set $A$ is *countable* if and only if:\n",
    "\n",
    "1. $A$ is empty, or\n",
    "2. there is an onto (surjective) function $f: \\mathbb{N} \\to A$ (can have multiple numbers mapped to same element in $A$)\n",
    "    - then we just iterate through $\\mathbb{N}$\n",
    "\n",
    "These statements are equivalent for any set $A$:\n",
    "\n",
    "1. $A$ is countable\n",
    "2. There exists an injective function $g: A \\to \\mathbb{N}$ (no 2 numbers mapped from the same element in $A$)\n",
    "3. Either $A$ is finite, or there exists an bijective (injective and surjective) function $h: \\mathbb{N} \\to A$\n",
    "\n",
    "---"
   ]
  },
  {
   "cell_type": "markdown",
   "metadata": {},
   "source": [
    "*Examples*\n",
    "\n",
    "- $\\mathbb{N}$ is countable by choosing $f(n)=n$\n",
    "- $\\mathbb{Z}$ is countable by choosing $f(n) = (n+1)/2$ if $n$ is odd, else $f(n) = -n/2$ if $n$ is even\n",
    "\n",
    "To show $\\mathbb{Q}$ is countable:\n",
    "\n",
    "List 0: 0\n",
    "\n",
    "List 1: -1, 1\n",
    "\n",
    "List 2: -2, -1/2, 1/2, 2\n",
    "\n",
    "List 3: -3, -3/2, -2/3, -1/3, 1/3, 2/3, 3/2, 3 (denominator between 1 and 3, min = -3, max = 3)\n",
    "\n",
    "Not every set is countable.\n",
    "\n",
    "---"
   ]
  },
  {
   "cell_type": "markdown",
   "metadata": {},
   "source": [
    "Def: a *power set* of any set $A$ (denoted by $P(A)$) is the set of all subsets of $A$\n",
    "\n",
    "**Thm**: *Cantor*\n",
    "\n",
    "The set $P(\\mathbb{N})$ is *not* countable\n",
    "\n",
    "Proof: by contradiction.\n",
    "\n",
    "Assume it is countable. Then there is an onto function $f: \\mathbb{N} \\to P(\\mathbb{N})$.\n",
    "Let $S = \\{ n \\in \\mathbb{N} : n \\notin f(n) \\}$.\n",
    "\n",
    "We have $S \\subseteq \\mathbb{N}$, so $S \\in P(\\mathbb{N})$.\n",
    "\n",
    "Because $f$ is onto, there must exist $m \\in \\mathbb{N}$ such that $f(m) = S$.\n",
    "\n",
    "Is $m \\in S$?\n",
    "\n",
    "$m \\in S \\iff m \\in f(m)$ as $f(m) = S$.\n",
    "\n",
    "$m \\in S \\iff m \\notin f(m)$ by definition of $S$.\n",
    "\n",
    "Hence contradiction.\n",
    "\n",
    "---"
   ]
  },
  {
   "cell_type": "markdown",
   "metadata": {},
   "source": [
    "### Alphabets, strings, languages\n",
    "\n",
    "An alphabet is a finite and nonempty set.\n",
    "\n",
    "We think about the elements of alphabets as symbols.\n",
    "\n",
    "Common names: $\\Sigma, \\Gamma, \\Delta$\n",
    "\n",
    "Common symbols: $0, 1, a, b, c$\n",
    "\n",
    "A *string* over an alphabet $\\Sigma$ is a finite sequence of symbols from $\\Sigma$.\n",
    "\n",
    "Examples:\n",
    "\n",
    "011010 is a string over the binary alphabet $\\Sigma = \\{0, 1\\}$. Also a string over $\\{0, 1, 2\\}$.\n",
    "\n",
    "The empty string, $\\epsilon$, has no symbols in it.\n",
    "\n",
    "Strings must be finite. $| \\epsilon | = 0$, $|01101| = 5$.\n",
    "\n",
    "A language over an alphabet $\\Sigma$ is any set of strings, each being over $\\Sigma$.\n",
    "\n",
    "Example: $\\Sigma = \\{0, 1 \\}$.\n",
    "\n",
    "The language $\\Sigma^*$ is the set of all strings over $\\Sigma$."
   ]
  }
 ],
 "metadata": {
  "kernelspec": {
   "display_name": "Python 2",
   "language": "python",
   "name": "python2"
  },
  "language_info": {
   "codemirror_mode": {
    "name": "ipython",
    "version": 2
   },
   "file_extension": ".py",
   "mimetype": "text/x-python",
   "name": "python",
   "nbconvert_exporter": "python",
   "pygments_lexer": "ipython2",
   "version": "2.7.11"
  }
 },
 "nbformat": 4,
 "nbformat_minor": 0
}
